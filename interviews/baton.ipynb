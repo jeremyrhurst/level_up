{
 "cells": [
  {
   "cell_type": "code",
   "execution_count": 1,
   "metadata": {},
   "outputs": [
    {
     "name": "stdout",
     "output_type": "stream",
     "text": [
      "[\n",
      "    {\n",
      "        \"event_id\": \"E001\",\n",
      "        \"timestamp\": \"2025-02-12T10:30:00Z\",\n",
      "        \"yard_id\": \"Y001\",\n",
      "        \"trailer_id\": \"T123\",\n",
      "        \"event_type\": \"arrival\",\n",
      "        \"driver_id\": \"D045\"\n",
      "    },\n",
      "    {\n",
      "        \"event_id\": \"E002\",\n",
      "        \"timestamp\": \"2025-02-12T11:00:00Z\",\n",
      "        \"yard_id\": \"Y001\",\n",
      "        \"trailer_id\": \"T123\",\n",
      "        \"event_type\": \"departure\",\n",
      "        \"driver_id\": \"D045\"\n",
      "    }\n",
      "]\n"
     ]
    }
   ],
   "source": [
    "import json\n",
    "\n",
    "with open(\"events.json\", \"r\") as file:\n",
    "    data = json.load(file)\n",
    "\n",
    "print(json.dumps(data[:2], indent=4))  # Print first 2 items neatly formatted\n"
   ]
  },
  {
   "cell_type": "code",
   "execution_count": 2,
   "metadata": {},
   "outputs": [
    {
     "name": "stdout",
     "output_type": "stream",
     "text": [
      "  event_id             timestamp yard_id trailer_id event_type driver_id\n",
      "0     E001  2025-02-12T10:30:00Z    Y001       T123    arrival      D045\n",
      "1     E002  2025-02-12T11:00:00Z    Y001       T123  departure      D045\n",
      "2     E003  2025-02-12T12:00:00Z    Y002       T567    arrival      D099\n"
     ]
    }
   ],
   "source": [
    "import pandas as pd\n",
    "\n",
    "df = pd.json_normalize(data)  # Flatten JSON if nested\n",
    "print(df.head())\n"
   ]
  },
  {
   "cell_type": "code",
   "execution_count": 5,
   "metadata": {},
   "outputs": [
    {
     "name": "stdout",
     "output_type": "stream",
     "text": [
      "Counter({'arrival': 2, 'departure': 1})\n"
     ]
    }
   ],
   "source": [
    "# Count the Number of Events by Type\n",
    "from collections import Counter\n",
    "\n",
    "with open(\"events.json\", \"r\") as file:\n",
    "    data = json.load(file)\n",
    "\n",
    "event_counts = Counter(event[\"event_type\"] for event in data)\n",
    "print(event_counts)"
   ]
  },
  {
   "cell_type": "code",
   "execution_count": 6,
   "metadata": {},
   "outputs": [
    {
     "name": "stdout",
     "output_type": "stream",
     "text": [
      "Trailer T123 stayed for 0:30:00\n"
     ]
    }
   ],
   "source": [
    "# Find the Average Time a Trailer Spends in a Yard\n",
    "from datetime import datetime\n",
    "\n",
    "def parse_time(timestamp):\n",
    "    return datetime.strptime(timestamp, \"%Y-%m-%dT%H:%M:%SZ\")\n",
    "\n",
    "yard_times = {}\n",
    "\n",
    "for event in data:\n",
    "    trailer = event[\"trailer_id\"]\n",
    "    if event[\"event_type\"] == \"arrival\":\n",
    "        yard_times[trailer] = parse_time(event[\"timestamp\"])\n",
    "    elif event[\"event_type\"] == \"departure\" and trailer in yard_times:\n",
    "        duration = parse_time(event[\"timestamp\"]) - yard_times[trailer]\n",
    "        print(f\"Trailer {trailer} stayed for {duration}\")\n",
    "\n"
   ]
  },
  {
   "cell_type": "code",
   "execution_count": 7,
   "metadata": {},
   "outputs": [
    {
     "name": "stdout",
     "output_type": "stream",
     "text": [
      "Most active yard: Y001 with 2 events\n"
     ]
    }
   ],
   "source": [
    "# Find the Yard with the Most Activity\n",
    "\n",
    "yard_activity = Counter(event[\"yard_id\"] for event in data)\n",
    "most_active_yard = max(yard_activity, key=yard_activity.get)\n",
    "print(f\"Most active yard: {most_active_yard} with {yard_activity[most_active_yard]} events\")\n"
   ]
  }
 ],
 "metadata": {
  "kernelspec": {
   "display_name": "Python 3",
   "language": "python",
   "name": "python3"
  },
  "language_info": {
   "codemirror_mode": {
    "name": "ipython",
    "version": 3
   },
   "file_extension": ".py",
   "mimetype": "text/x-python",
   "name": "python",
   "nbconvert_exporter": "python",
   "pygments_lexer": "ipython3",
   "version": "3.11.9"
  }
 },
 "nbformat": 4,
 "nbformat_minor": 2
}
