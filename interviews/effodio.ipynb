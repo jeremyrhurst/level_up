{
 "cells": [
  {
   "cell_type": "code",
   "execution_count": null,
   "metadata": {},
   "outputs": [],
   "source": [
    "from datetime import datetime\n",
    "# start: 2022-01-01 00:00:00\n",
    "# offsets: {{0, 0}, {1000, 4}, {60000, 9}, {3600000, 6}}\n",
    "def timestamp_analysis(timestamps):\n",
    "    date_format = \"%Y-%m-%d %H:%M:%S\"\n",
    "    print(f'start: {timestamps[0]}')\n",
    "    ans = [[0,0]]\n",
    "    # initialize between first two timestamps\n",
    "    first = datetime.strptime(timestamps[0], date_format)\n",
    "    second = datetime.strptime(timestamps[1], date_format)\n",
    "    difference = second - first\n",
    "    if len(timestamps) < 1:\n",
    "        print(f'offsets: {ans}')\n",
    "        return\n",
    "    cur = [round(difference.total_seconds()*1000), 1]\n",
    "    for i in range(2,len(timestamps)):\n",
    "        # Check if timestamp difference changed\n",
    "        new_diff = datetime.strptime(timestamps[i], date_format) - datetime.strptime(timestamps[i-1], date_format)\n",
    "        if new_diff != difference:\n",
    "            # if it has, append cur to ans and initialize new cur and difference\n",
    "            ans.append(cur)\n",
    "            cur = [round(new_diff.total_seconds()*1000), 0]\n",
    "            difference = new_diff\n",
    "        cur[1] += 1\n",
    "    ans.append(cur)\n",
    "    print(f'offset: {ans}')\n",
    "\n"
   ]
  },
  {
   "cell_type": "code",
   "execution_count": 44,
   "metadata": {},
   "outputs": [
    {
     "name": "stdout",
     "output_type": "stream",
     "text": [
      "start: 2022-01-01 00:00:00\n",
      "offset: [[0, 0], [1000, 4], [60000, 9], [3600000, 6]]\n"
     ]
    }
   ],
   "source": [
    "timestamp_analysis(\n",
    "[\n",
    "    \"2022-01-01 00:00:00\",\n",
    "    \"2022-01-01 00:00:01\",\n",
    "    \"2022-01-01 00:00:02\",\n",
    "    \"2022-01-01 00:00:03\",\n",
    "    \"2022-01-01 00:00:04\",\n",
    "    \"2022-01-01 00:01:04\",\n",
    "    \"2022-01-01 00:02:04\",\n",
    "    \"2022-01-01 00:03:04\",\n",
    "    \"2022-01-01 00:04:04\",\n",
    "    \"2022-01-01 00:05:04\",\n",
    "    \"2022-01-01 00:06:04\",\n",
    "    \"2022-01-01 00:07:04\",\n",
    "    \"2022-01-01 00:08:04\",\n",
    "    \"2022-01-01 00:09:04\",\n",
    "    \"2022-01-01 01:09:04\",\n",
    "    \"2022-01-01 02:09:04\",\n",
    "    \"2022-01-01 03:09:04\",\n",
    "    \"2022-01-01 04:09:04\",\n",
    "    \"2022-01-01 05:09:04\",\n",
    "    \"2022-01-01 06:09:04\",\n",
    "])"
   ]
  }
 ],
 "metadata": {
  "kernelspec": {
   "display_name": "Python 3",
   "language": "python",
   "name": "python3"
  },
  "language_info": {
   "codemirror_mode": {
    "name": "ipython",
    "version": 3
   },
   "file_extension": ".py",
   "mimetype": "text/x-python",
   "name": "python",
   "nbconvert_exporter": "python",
   "pygments_lexer": "ipython3",
   "version": "3.11.9"
  }
 },
 "nbformat": 4,
 "nbformat_minor": 2
}
